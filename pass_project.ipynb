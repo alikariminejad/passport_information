{
  "cells": [
    {
      "cell_type": "code",
      "source": [
        "!sudo apt install tesseract-ocr\n",
        "!pip install pytesseract"
      ],
      "metadata": {
        "colab": {
          "base_uri": "https://localhost:8080/"
        },
        "id": "_0RrM7qSAP6a",
        "outputId": "30af823d-b369-4c5c-9322-a716c8051d50"
      },
      "execution_count": 1,
      "outputs": [
        {
          "output_type": "stream",
          "name": "stdout",
          "text": [
            "Reading package lists... Done\n",
            "Building dependency tree       \n",
            "Reading state information... Done\n",
            "The following additional packages will be installed:\n",
            "  tesseract-ocr-eng tesseract-ocr-osd\n",
            "The following NEW packages will be installed:\n",
            "  tesseract-ocr tesseract-ocr-eng tesseract-ocr-osd\n",
            "0 upgraded, 3 newly installed, 0 to remove and 24 not upgraded.\n",
            "Need to get 4,850 kB of archives.\n",
            "After this operation, 16.3 MB of additional disk space will be used.\n",
            "Get:1 http://archive.ubuntu.com/ubuntu focal/universe amd64 tesseract-ocr-eng all 1:4.00~git30-7274cfa-1 [1,598 kB]\n",
            "Get:2 http://archive.ubuntu.com/ubuntu focal/universe amd64 tesseract-ocr-osd all 1:4.00~git30-7274cfa-1 [2,990 kB]\n",
            "Get:3 http://archive.ubuntu.com/ubuntu focal/universe amd64 tesseract-ocr amd64 4.1.1-2build2 [262 kB]\n",
            "Fetched 4,850 kB in 1s (3,506 kB/s)\n",
            "debconf: unable to initialize frontend: Dialog\n",
            "debconf: (No usable dialog-like program is installed, so the dialog based frontend cannot be used. at /usr/share/perl5/Debconf/FrontEnd/Dialog.pm line 76, <> line 3.)\n",
            "debconf: falling back to frontend: Readline\n",
            "debconf: unable to initialize frontend: Readline\n",
            "debconf: (This frontend requires a controlling tty.)\n",
            "debconf: falling back to frontend: Teletype\n",
            "dpkg-preconfigure: unable to re-open stdin: \n",
            "Selecting previously unselected package tesseract-ocr-eng.\n",
            "(Reading database ... 122518 files and directories currently installed.)\n",
            "Preparing to unpack .../tesseract-ocr-eng_1%3a4.00~git30-7274cfa-1_all.deb ...\n",
            "Unpacking tesseract-ocr-eng (1:4.00~git30-7274cfa-1) ...\n",
            "Selecting previously unselected package tesseract-ocr-osd.\n",
            "Preparing to unpack .../tesseract-ocr-osd_1%3a4.00~git30-7274cfa-1_all.deb ...\n",
            "Unpacking tesseract-ocr-osd (1:4.00~git30-7274cfa-1) ...\n",
            "Selecting previously unselected package tesseract-ocr.\n",
            "Preparing to unpack .../tesseract-ocr_4.1.1-2build2_amd64.deb ...\n",
            "Unpacking tesseract-ocr (4.1.1-2build2) ...\n",
            "Setting up tesseract-ocr-eng (1:4.00~git30-7274cfa-1) ...\n",
            "Setting up tesseract-ocr-osd (1:4.00~git30-7274cfa-1) ...\n",
            "Setting up tesseract-ocr (4.1.1-2build2) ...\n",
            "Processing triggers for man-db (2.9.1-1) ...\n",
            "Looking in indexes: https://pypi.org/simple, https://us-python.pkg.dev/colab-wheels/public/simple/\n",
            "Collecting pytesseract\n",
            "  Downloading pytesseract-0.3.10-py3-none-any.whl (14 kB)\n",
            "Requirement already satisfied: packaging>=21.3 in /usr/local/lib/python3.10/dist-packages (from pytesseract) (23.1)\n",
            "Requirement already satisfied: Pillow>=8.0.0 in /usr/local/lib/python3.10/dist-packages (from pytesseract) (8.4.0)\n",
            "Installing collected packages: pytesseract\n",
            "Successfully installed pytesseract-0.3.10\n"
          ]
        }
      ]
    },
    {
      "cell_type": "code",
      "source": [
        "!pip install easyocr\n",
        "!pip install passporteye"
      ],
      "metadata": {
        "colab": {
          "base_uri": "https://localhost:8080/"
        },
        "id": "PalL4c9DAeJB",
        "outputId": "25690876-42bd-42c3-cdd9-8c49015e85d2"
      },
      "execution_count": 2,
      "outputs": [
        {
          "output_type": "stream",
          "name": "stdout",
          "text": [
            "Looking in indexes: https://pypi.org/simple, https://us-python.pkg.dev/colab-wheels/public/simple/\n",
            "Collecting easyocr\n",
            "  Downloading easyocr-1.6.2-py3-none-any.whl (2.9 MB)\n",
            "\u001b[?25l     \u001b[90m━━━━━━━━━━━━━━━━━━━━━━━━━━━━━━━━━━━━━━━━\u001b[0m \u001b[32m0.0/2.9 MB\u001b[0m \u001b[31m?\u001b[0m eta \u001b[36m-:--:--\u001b[0m\r\u001b[2K     \u001b[91m━━━━\u001b[0m\u001b[91m╸\u001b[0m\u001b[90m━━━━━━━━━━━━━━━━━━━━━━━━━━━━━━━━━━━\u001b[0m \u001b[32m0.4/2.9 MB\u001b[0m \u001b[31m10.5 MB/s\u001b[0m eta \u001b[36m0:00:01\u001b[0m\r\u001b[2K     \u001b[91m━━━━━━━━━━━━━━━━━━━━━━━━━━━━━━━━━━━━━━━\u001b[0m\u001b[91m╸\u001b[0m \u001b[32m2.9/2.9 MB\u001b[0m \u001b[31m43.0 MB/s\u001b[0m eta \u001b[36m0:00:01\u001b[0m\r\u001b[2K     \u001b[90m━━━━━━━━━━━━━━━━━━━━━━━━━━━━━━━━━━━━━━━━\u001b[0m \u001b[32m2.9/2.9 MB\u001b[0m \u001b[31m33.4 MB/s\u001b[0m eta \u001b[36m0:00:00\u001b[0m\n",
            "\u001b[?25hRequirement already satisfied: torch in /usr/local/lib/python3.10/dist-packages (from easyocr) (2.0.0+cu118)\n",
            "Requirement already satisfied: torchvision>=0.5 in /usr/local/lib/python3.10/dist-packages (from easyocr) (0.15.1+cu118)\n",
            "Collecting opencv-python-headless<=4.5.4.60 (from easyocr)\n",
            "  Downloading opencv_python_headless-4.5.4.60-cp310-cp310-manylinux_2_17_x86_64.manylinux2014_x86_64.whl (47.6 MB)\n",
            "\u001b[2K     \u001b[90m━━━━━━━━━━━━━━━━━━━━━━━━━━━━━━━━━━━━━━━━\u001b[0m \u001b[32m47.6/47.6 MB\u001b[0m \u001b[31m16.1 MB/s\u001b[0m eta \u001b[36m0:00:00\u001b[0m\n",
            "\u001b[?25hRequirement already satisfied: scipy in /usr/local/lib/python3.10/dist-packages (from easyocr) (1.10.1)\n",
            "Requirement already satisfied: numpy in /usr/local/lib/python3.10/dist-packages (from easyocr) (1.22.4)\n",
            "Requirement already satisfied: Pillow in /usr/local/lib/python3.10/dist-packages (from easyocr) (8.4.0)\n",
            "Requirement already satisfied: scikit-image in /usr/local/lib/python3.10/dist-packages (from easyocr) (0.19.3)\n",
            "Collecting python-bidi (from easyocr)\n",
            "  Downloading python_bidi-0.4.2-py2.py3-none-any.whl (30 kB)\n",
            "Requirement already satisfied: PyYAML in /usr/local/lib/python3.10/dist-packages (from easyocr) (6.0)\n",
            "Requirement already satisfied: Shapely in /usr/local/lib/python3.10/dist-packages (from easyocr) (2.0.1)\n",
            "Collecting pyclipper (from easyocr)\n",
            "  Downloading pyclipper-1.3.0.post4-cp310-cp310-manylinux_2_12_x86_64.manylinux2010_x86_64.whl (813 kB)\n",
            "\u001b[2K     \u001b[90m━━━━━━━━━━━━━━━━━━━━━━━━━━━━━━━━━━━━━━\u001b[0m \u001b[32m813.9/813.9 kB\u001b[0m \u001b[31m61.8 MB/s\u001b[0m eta \u001b[36m0:00:00\u001b[0m\n",
            "\u001b[?25hCollecting ninja (from easyocr)\n",
            "  Downloading ninja-1.11.1-py2.py3-none-manylinux_2_12_x86_64.manylinux2010_x86_64.whl (145 kB)\n",
            "\u001b[2K     \u001b[90m━━━━━━━━━━━━━━━━━━━━━━━━━━━━━━━━━━━━━━\u001b[0m \u001b[32m146.0/146.0 kB\u001b[0m \u001b[31m19.9 MB/s\u001b[0m eta \u001b[36m0:00:00\u001b[0m\n",
            "\u001b[?25hRequirement already satisfied: requests in /usr/local/lib/python3.10/dist-packages (from torchvision>=0.5->easyocr) (2.27.1)\n",
            "Requirement already satisfied: filelock in /usr/local/lib/python3.10/dist-packages (from torch->easyocr) (3.12.0)\n",
            "Requirement already satisfied: typing-extensions in /usr/local/lib/python3.10/dist-packages (from torch->easyocr) (4.5.0)\n",
            "Requirement already satisfied: sympy in /usr/local/lib/python3.10/dist-packages (from torch->easyocr) (1.11.1)\n",
            "Requirement already satisfied: networkx in /usr/local/lib/python3.10/dist-packages (from torch->easyocr) (3.1)\n",
            "Requirement already satisfied: jinja2 in /usr/local/lib/python3.10/dist-packages (from torch->easyocr) (3.1.2)\n",
            "Requirement already satisfied: triton==2.0.0 in /usr/local/lib/python3.10/dist-packages (from torch->easyocr) (2.0.0)\n",
            "Requirement already satisfied: cmake in /usr/local/lib/python3.10/dist-packages (from triton==2.0.0->torch->easyocr) (3.25.2)\n",
            "Requirement already satisfied: lit in /usr/local/lib/python3.10/dist-packages (from triton==2.0.0->torch->easyocr) (16.0.3)\n",
            "Requirement already satisfied: six in /usr/local/lib/python3.10/dist-packages (from python-bidi->easyocr) (1.16.0)\n",
            "Requirement already satisfied: imageio>=2.4.1 in /usr/local/lib/python3.10/dist-packages (from scikit-image->easyocr) (2.25.1)\n",
            "Requirement already satisfied: tifffile>=2019.7.26 in /usr/local/lib/python3.10/dist-packages (from scikit-image->easyocr) (2023.4.12)\n",
            "Requirement already satisfied: PyWavelets>=1.1.1 in /usr/local/lib/python3.10/dist-packages (from scikit-image->easyocr) (1.4.1)\n",
            "Requirement already satisfied: packaging>=20.0 in /usr/local/lib/python3.10/dist-packages (from scikit-image->easyocr) (23.1)\n",
            "Requirement already satisfied: MarkupSafe>=2.0 in /usr/local/lib/python3.10/dist-packages (from jinja2->torch->easyocr) (2.1.2)\n",
            "Requirement already satisfied: urllib3<1.27,>=1.21.1 in /usr/local/lib/python3.10/dist-packages (from requests->torchvision>=0.5->easyocr) (1.26.15)\n",
            "Requirement already satisfied: certifi>=2017.4.17 in /usr/local/lib/python3.10/dist-packages (from requests->torchvision>=0.5->easyocr) (2022.12.7)\n",
            "Requirement already satisfied: charset-normalizer~=2.0.0 in /usr/local/lib/python3.10/dist-packages (from requests->torchvision>=0.5->easyocr) (2.0.12)\n",
            "Requirement already satisfied: idna<4,>=2.5 in /usr/local/lib/python3.10/dist-packages (from requests->torchvision>=0.5->easyocr) (3.4)\n",
            "Requirement already satisfied: mpmath>=0.19 in /usr/local/lib/python3.10/dist-packages (from sympy->torch->easyocr) (1.3.0)\n",
            "Installing collected packages: pyclipper, ninja, python-bidi, opencv-python-headless, easyocr\n",
            "  Attempting uninstall: opencv-python-headless\n",
            "    Found existing installation: opencv-python-headless 4.7.0.72\n",
            "    Uninstalling opencv-python-headless-4.7.0.72:\n",
            "      Successfully uninstalled opencv-python-headless-4.7.0.72\n",
            "Successfully installed easyocr-1.6.2 ninja-1.11.1 opencv-python-headless-4.5.4.60 pyclipper-1.3.0.post4 python-bidi-0.4.2\n",
            "Looking in indexes: https://pypi.org/simple, https://us-python.pkg.dev/colab-wheels/public/simple/\n",
            "Collecting passporteye\n",
            "  Downloading PassportEye-2.2.1.tar.gz (28 kB)\n",
            "  Preparing metadata (setup.py) ... \u001b[?25l\u001b[?25hdone\n",
            "Requirement already satisfied: numpy in /usr/local/lib/python3.10/dist-packages (from passporteye) (1.22.4)\n",
            "Requirement already satisfied: scipy in /usr/local/lib/python3.10/dist-packages (from passporteye) (1.10.1)\n",
            "Requirement already satisfied: scikit-image>=0.19.0 in /usr/local/lib/python3.10/dist-packages (from passporteye) (0.19.3)\n",
            "Requirement already satisfied: imageio in /usr/local/lib/python3.10/dist-packages (from passporteye) (2.25.1)\n",
            "Requirement already satisfied: scikit-learn in /usr/local/lib/python3.10/dist-packages (from passporteye) (1.2.2)\n",
            "Requirement already satisfied: matplotlib in /usr/local/lib/python3.10/dist-packages (from passporteye) (3.7.1)\n",
            "Requirement already satisfied: pytesseract>=0.2.0 in /usr/local/lib/python3.10/dist-packages (from passporteye) (0.3.10)\n",
            "Collecting pdfminer>=20191010 (from passporteye)\n",
            "  Downloading pdfminer-20191125.tar.gz (4.2 MB)\n",
            "\u001b[2K     \u001b[90m━━━━━━━━━━━━━━━━━━━━━━━━━━━━━━━━━━━━━━━━\u001b[0m \u001b[32m4.2/4.2 MB\u001b[0m \u001b[31m38.2 MB/s\u001b[0m eta \u001b[36m0:00:00\u001b[0m\n",
            "\u001b[?25h  Preparing metadata (setup.py) ... \u001b[?25l\u001b[?25hdone\n",
            "Collecting pycryptodome (from pdfminer>=20191010->passporteye)\n",
            "  Downloading pycryptodome-3.17-cp35-abi3-manylinux_2_17_x86_64.manylinux2014_x86_64.whl (2.1 MB)\n",
            "\u001b[2K     \u001b[90m━━━━━━━━━━━━━━━━━━━━━━━━━━━━━━━━━━━━━━━━\u001b[0m \u001b[32m2.1/2.1 MB\u001b[0m \u001b[31m96.7 MB/s\u001b[0m eta \u001b[36m0:00:00\u001b[0m\n",
            "\u001b[?25hRequirement already satisfied: packaging>=21.3 in /usr/local/lib/python3.10/dist-packages (from pytesseract>=0.2.0->passporteye) (23.1)\n",
            "Requirement already satisfied: Pillow>=8.0.0 in /usr/local/lib/python3.10/dist-packages (from pytesseract>=0.2.0->passporteye) (8.4.0)\n",
            "Requirement already satisfied: networkx>=2.2 in /usr/local/lib/python3.10/dist-packages (from scikit-image>=0.19.0->passporteye) (3.1)\n",
            "Requirement already satisfied: tifffile>=2019.7.26 in /usr/local/lib/python3.10/dist-packages (from scikit-image>=0.19.0->passporteye) (2023.4.12)\n",
            "Requirement already satisfied: PyWavelets>=1.1.1 in /usr/local/lib/python3.10/dist-packages (from scikit-image>=0.19.0->passporteye) (1.4.1)\n",
            "Requirement already satisfied: contourpy>=1.0.1 in /usr/local/lib/python3.10/dist-packages (from matplotlib->passporteye) (1.0.7)\n",
            "Requirement already satisfied: cycler>=0.10 in /usr/local/lib/python3.10/dist-packages (from matplotlib->passporteye) (0.11.0)\n",
            "Requirement already satisfied: fonttools>=4.22.0 in /usr/local/lib/python3.10/dist-packages (from matplotlib->passporteye) (4.39.3)\n",
            "Requirement already satisfied: kiwisolver>=1.0.1 in /usr/local/lib/python3.10/dist-packages (from matplotlib->passporteye) (1.4.4)\n",
            "Requirement already satisfied: pyparsing>=2.3.1 in /usr/local/lib/python3.10/dist-packages (from matplotlib->passporteye) (3.0.9)\n",
            "Requirement already satisfied: python-dateutil>=2.7 in /usr/local/lib/python3.10/dist-packages (from matplotlib->passporteye) (2.8.2)\n",
            "Requirement already satisfied: joblib>=1.1.1 in /usr/local/lib/python3.10/dist-packages (from scikit-learn->passporteye) (1.2.0)\n",
            "Requirement already satisfied: threadpoolctl>=2.0.0 in /usr/local/lib/python3.10/dist-packages (from scikit-learn->passporteye) (3.1.0)\n",
            "Requirement already satisfied: six>=1.5 in /usr/local/lib/python3.10/dist-packages (from python-dateutil>=2.7->matplotlib->passporteye) (1.16.0)\n",
            "Building wheels for collected packages: passporteye, pdfminer\n",
            "  Building wheel for passporteye (setup.py) ... \u001b[?25l\u001b[?25hdone\n",
            "  Created wheel for passporteye: filename=PassportEye-2.2.1-py3-none-any.whl size=29600 sha256=691b333d6459f7669c2255c17291818d028fa4f8bc72d8e755d474e09c37d4f0\n",
            "  Stored in directory: /root/.cache/pip/wheels/77/4b/01/d43db9410eef3e79a211a78f7ccb04af864a97b61aeee0bf88\n",
            "  Building wheel for pdfminer (setup.py) ... \u001b[?25l\u001b[?25hdone\n",
            "  Created wheel for pdfminer: filename=pdfminer-20191125-py3-none-any.whl size=6140079 sha256=45f5ea200daba48bf354ac0930eedcd19266c4d3cd893b5a4dc9bfb2ed02bab4\n",
            "  Stored in directory: /root/.cache/pip/wheels/4e/c1/68/f7bd0a8f514661f76b5cbe3b5f76e0033d79f1296012cbbf72\n",
            "Successfully built passporteye pdfminer\n",
            "Installing collected packages: pycryptodome, pdfminer, passporteye\n",
            "Successfully installed passporteye-2.2.1 pdfminer-20191125 pycryptodome-3.17\n"
          ]
        }
      ]
    },
    {
      "cell_type": "markdown",
      "metadata": {
        "id": "ebhNq1wbAKRz"
      },
      "source": [
        "<h3 style='font-weight: bold'>Import necesary packages</h3>"
      ]
    },
    {
      "cell_type": "code",
      "execution_count": 3,
      "metadata": {
        "id": "JNR4thVjAKR3"
      },
      "outputs": [],
      "source": [
        "import os\n",
        "import string as st\n",
        "from dateutil import parser\n",
        "import matplotlib.image as mpimg\n",
        "import cv2\n",
        "from passporteye import read_mrz\n",
        "import json\n",
        "import easyocr\n",
        "import warnings\n",
        "warnings.filterwarnings('ignore')"
      ]
    },
    {
      "cell_type": "markdown",
      "metadata": {
        "id": "yhIEVXgnAKR5"
      },
      "source": [
        "<h3 style='font-weight: bold'>Load easyOCR engine</h3>"
      ]
    },
    {
      "cell_type": "code",
      "execution_count": 4,
      "metadata": {
        "id": "ZPuRzLAIAKR6",
        "colab": {
          "base_uri": "https://localhost:8080/"
        },
        "outputId": "e620de02-b99c-4261-f66e-2543727daa60"
      },
      "outputs": [
        {
          "output_type": "stream",
          "name": "stderr",
          "text": [
            "WARNING:easyocr.easyocr:Downloading detection model, please wait. This may take several minutes depending upon your network connection.\n"
          ]
        },
        {
          "output_type": "stream",
          "name": "stdout",
          "text": [
            "Progress: |██████████████████████████████████████████████████| 100.0% Complete"
          ]
        },
        {
          "output_type": "stream",
          "name": "stderr",
          "text": [
            "WARNING:easyocr.easyocr:Downloading recognition model, please wait. This may take several minutes depending upon your network connection.\n"
          ]
        },
        {
          "output_type": "stream",
          "name": "stdout",
          "text": [
            "Progress: |██████████████████████████████████████████████████| 100.0% Complete"
          ]
        }
      ],
      "source": [
        "# lOAD OCR ENGINE (easyOCR)\n",
        "reader=easyocr.Reader(lang_list=['en'], gpu=True)  # Enable gpu if available"
      ]
    },
    {
      "cell_type": "markdown",
      "metadata": {
        "id": "KKLDC3PRAKR6"
      },
      "source": [
        "<h3 style='font-weight: bold'>Load country codes from <strong>country_codes.json</strong> file</h3>"
      ]
    },
    {
      "cell_type": "code",
      "source": [
        "!unrar x pass-project.rar"
      ],
      "metadata": {
        "colab": {
          "base_uri": "https://localhost:8080/"
        },
        "id": "_CziVB_fRf6K",
        "outputId": "1766857d-4750-4c9e-9d4e-f434e719340c"
      },
      "execution_count": 8,
      "outputs": [
        {
          "output_type": "stream",
          "name": "stdout",
          "text": [
            "\n",
            "UNRAR 5.61 beta 1 freeware      Copyright (c) 1993-2018 Alexander Roshal\n",
            "\n",
            "\n",
            "Extracting from pass-project.rar\n",
            "\n",
            "Creating    pass-project                                              OK\n",
            "Extracting  pass-project/a, b.png                                        \b\b\b\b  0%\b\b\b\b\b  OK \n",
            "Extracting  pass-project/country_codes.json                              \b\b\b\b  0%\b\b\b\b\b  OK \n",
            "Extracting  pass-project/dlib_face_recognition_resnet_model_v1.dat       \b\b\b\b  4%\b\b\b\b  9%\b\b\b\b 13%\b\b\b\b 17%\b\b\b\b 22%\b\b\b\b\b  OK \n",
            "Extracting  pass-project/notebook.ipynb                                  \b\b\b\b 22%\b\b\b\b\b  OK \n",
            "Extracting  pass-project/passport_1.png                                  \b\b\b\b 22%\b\b\b\b\b  OK \n",
            "Extracting  pass-project/passport_temgoua.png                            \b\b\b\b 23%\b\b\b\b\b  OK \n",
            "Extracting  pass-project/shape_predictor_68_face_landmarks.dat           \b\b\b\b 27%\b\b\b\b 32%\b\b\b\b 36%\b\b\b\b 41%\b\b\b\b 45%\b\b\b\b 50%\b\b\b\b 54%\b\b\b\b 59%\b\b\b\b 63%\b\b\b\b 68%\b\b\b\b 72%\b\b\b\b 77%\b\b\b\b 81%\b\b\b\b 86%\b\b\b\b 90%\b\b\b\b 95%\b\b\b\b 99%\b\b\b\b\b  OK \n",
            "All OK\n"
          ]
        }
      ]
    },
    {
      "cell_type": "code",
      "execution_count": 9,
      "metadata": {
        "id": "gWGPQoiWAKR6"
      },
      "outputs": [],
      "source": [
        "with open('/content/pass-project/country_codes.json') as f:\n",
        "    country_codes = json.load(f)"
      ]
    },
    {
      "cell_type": "markdown",
      "metadata": {
        "id": "4nJOjpGqAKR7"
      },
      "source": [
        "<h3 style='font-weight: bold'>Define functions</h3>"
      ]
    },
    {
      "cell_type": "code",
      "source": [
        "!pip install face_recognition"
      ],
      "metadata": {
        "colab": {
          "base_uri": "https://localhost:8080/"
        },
        "id": "CvWUqhuGTwWA",
        "outputId": "eecaf0aa-1fcb-4f8c-aaa0-46ee9e5a2743"
      },
      "execution_count": 19,
      "outputs": [
        {
          "output_type": "stream",
          "name": "stdout",
          "text": [
            "Looking in indexes: https://pypi.org/simple, https://us-python.pkg.dev/colab-wheels/public/simple/\n",
            "Collecting face_recognition\n",
            "  Downloading face_recognition-1.3.0-py2.py3-none-any.whl (15 kB)\n",
            "Collecting face-recognition-models>=0.3.0 (from face_recognition)\n",
            "  Downloading face_recognition_models-0.3.0.tar.gz (100.1 MB)\n",
            "\u001b[2K     \u001b[90m━━━━━━━━━━━━━━━━━━━━━━━━━━━━━━━━━━━━━━\u001b[0m \u001b[32m100.1/100.1 MB\u001b[0m \u001b[31m11.4 MB/s\u001b[0m eta \u001b[36m0:00:00\u001b[0m\n",
            "\u001b[?25h  Preparing metadata (setup.py) ... \u001b[?25l\u001b[?25hdone\n",
            "Requirement already satisfied: Click>=6.0 in /usr/local/lib/python3.10/dist-packages (from face_recognition) (8.1.3)\n",
            "Requirement already satisfied: dlib>=19.7 in /usr/local/lib/python3.10/dist-packages (from face_recognition) (19.24.1)\n",
            "Requirement already satisfied: numpy in /usr/local/lib/python3.10/dist-packages (from face_recognition) (1.22.4)\n",
            "Requirement already satisfied: Pillow in /usr/local/lib/python3.10/dist-packages (from face_recognition) (8.4.0)\n",
            "Building wheels for collected packages: face-recognition-models\n",
            "  Building wheel for face-recognition-models (setup.py) ... \u001b[?25l\u001b[?25hdone\n",
            "  Created wheel for face-recognition-models: filename=face_recognition_models-0.3.0-py2.py3-none-any.whl size=100566173 sha256=3fb3b61ca935e4f63203f1df0ca68c71a1a66918f22002a9d6d7498e3dddd6c2\n",
            "  Stored in directory: /root/.cache/pip/wheels/7a/eb/cf/e9eced74122b679557f597bb7c8e4c739cfcac526db1fd523d\n",
            "Successfully built face-recognition-models\n",
            "Installing collected packages: face-recognition-models, face_recognition\n",
            "Successfully installed face-recognition-models-0.3.0 face_recognition-1.3.0\n"
          ]
        }
      ]
    },
    {
      "cell_type": "code",
      "source": [
        "def match_images():\n",
        "  import cv2\n",
        "  import face_recognition\n",
        "\n",
        "  # Load face and passport images\n",
        "  image = input(\"Please Enter your image: \")\n",
        "  passport = input(\"Please Enter your passport: \")\n",
        "  face_img = face_recognition.load_image_file(image)\n",
        "  passport_img = face_recognition.load_image_file(passport)\n",
        "\n",
        "  # Find face encodings in both images\n",
        "  face_encodings = face_recognition.face_encodings(face_img)\n",
        "  passport_encodings = face_recognition.face_encodings(passport_img)\n",
        "\n",
        "  if not face_encodings or not passport_encodings:\n",
        "      print(\"Error: Could not detect a face in one or both of the images\")\n",
        "      exit()\n",
        "  # Check face and passport image quality\n",
        "  if face_img is None or passport_img is None:\n",
        "      print('Error: Could not read input images')\n",
        "      exit()\n",
        "  elif face_img.shape[0] < 100 or face_img.shape[1] < 100:\n",
        "      print('Error: Face image is too small')\n",
        "      exit()\n",
        "  elif passport_img.shape[0] < 300 or passport_img.shape[1] < 300:\n",
        "      print('Error: Passport image is too small')\n",
        "      exit()\n",
        "\n",
        "  # Compare face encodings to check if they match\n",
        "  matches = face_recognition.compare_faces(face_encodings, passport_encodings[0], tolerance=0.6)\n",
        "\n",
        "  # Output result\n",
        "  if True in matches:\n",
        "      print(\"Face and passport belong to the same person\")\n",
        "  else:\n",
        "      print(\"Face and passport belong to different persons\")\n",
        "  return passport\n"
      ],
      "metadata": {
        "id": "Fp7_ev-MTmIK"
      },
      "execution_count": 38,
      "outputs": []
    },
    {
      "cell_type": "code",
      "source": [
        "match_images()"
      ],
      "metadata": {
        "colab": {
          "base_uri": "https://localhost:8080/"
        },
        "id": "M-1bdfluXhK7",
        "outputId": "b6190a2c-38cd-45ea-ea39-c9a052460e99"
      },
      "execution_count": 25,
      "outputs": [
        {
          "output_type": "stream",
          "name": "stdout",
          "text": [
            "Please Enter your image: /content/obama.jpg\n",
            "Please Enter your passport: /content/pass-project/passport_temgoua.png\n",
            "Face and passport belong to different persons\n"
          ]
        }
      ]
    },
    {
      "cell_type": "code",
      "execution_count": 30,
      "metadata": {
        "id": "yJTNp8koAKR7"
      },
      "outputs": [],
      "source": [
        "def parse_date(string, iob=True):\n",
        "    date = parser.parse(string, yearfirst=True).date() \n",
        "    return date.strftime('%d/%m/%Y')\n",
        "\n",
        "def clean(string):\n",
        "    return ''.join(i for i in string if i.isalnum()).upper()\n",
        "\n",
        "def get_country_name(country_code):\n",
        "    country_name = ''\n",
        "    for country in country_codes:\n",
        "        if country['alpha-3'] == country_code:\n",
        "            country_name = country['name']\n",
        "            return country_name.upper()\n",
        "    return country_code\n",
        "\n",
        "def get_sex(code):\n",
        "    if code in ['M', 'm', 'F', 'f']:\n",
        "        sex = code.upper() \n",
        "    elif code == '0':\n",
        "        sex = 'M'\n",
        "    else:\n",
        "        sex = 'F'\n",
        "    return sex\n",
        "\n",
        "def print_data(data):\n",
        "    for key in data.keys():\n",
        "        info = key.replace('_', ' ').capitalize()\n",
        "        print(f'{info}\\t:\\t{data[key]}')\n",
        "    return\n",
        "  \n",
        "def get_data(img_name):\n",
        "    \"\"\" Extract personal info from img_name\n",
        "\n",
        "    Args:\n",
        "        img_name (str or fp): name or path of the passport image\n",
        "\n",
        "    Returns:\n",
        "        dict: dictionary of extracted data with keys and corresponding values as follows:\n",
        "                surname         : surname\n",
        "                name            : name\n",
        "                sex             : sex\n",
        "                date_of_birth   : date of birth\n",
        "                nationality     : nationality\n",
        "                passport_type   : passport type\n",
        "                issuing_country : issuing country\n",
        "                expiration_date : expiration date\n",
        "                personal_number : personal number           \n",
        "    \"\"\"\n",
        "    \n",
        "    user_info = {}    \n",
        "    new_im_path = 'tmp.png'\n",
        "    im_path = img_name\n",
        "    # Crop image to Machine Readable Zone(MRZ)\n",
        "    mrz = read_mrz(im_path, save_roi=True)\n",
        "\n",
        "    if mrz:\n",
        "        mpimg.imsave(new_im_path, mrz.aux['roi'], cmap='gray')\n",
        "    \n",
        "        img = cv2.imread(new_im_path)\n",
        "        img = cv2.resize(img, (1110, 140))\n",
        "        \n",
        "        allowlist = st.ascii_letters+st.digits+'< '\n",
        "        code = reader.readtext(img, paragraph=False, detail=0, allowlist=allowlist)\n",
        "        a, b = code[0].upper(), code[1].upper()\n",
        "        \n",
        "        if len(a) < 44:\n",
        "            a = a + '<'*(44 - len(a))\n",
        "        if len(b) < 44:\n",
        "                b = b + '<'*(44 - len(b))\n",
        "                \n",
        "        surname_names = a[5:44].split('<<', 1)\n",
        "        if len(surname_names) < 2:\n",
        "            surname_names += ['']\n",
        "        surname, names = surname_names\n",
        "        \n",
        "        user_info['name'] = names.replace('<', ' ').strip().upper()\n",
        "        user_info['surname'] = surname.replace('<', ' ').strip().upper()\n",
        "        user_info['sex'] = get_sex(clean(b[20]))\n",
        "        user_info['date_of_birth'] = parse_date(b[13:19])\n",
        "        user_info['nationality'] = get_country_name(clean(b[10:13]))\n",
        "        user_info['passport_type'] = clean(a[0:2])\n",
        "        user_info['passport_number']  = clean(b[0:9])\n",
        "        user_info['issuing_country'] = get_country_name(clean(a[2:5]))\n",
        "        user_info['expiration_date'] = parse_date(b[21:27])\n",
        "        user_info['personal_number'] = clean(b[28:42])\n",
        "        \n",
        "    else:\n",
        "        return print(f'Machine cannot read image {img_name}.')\n",
        "    \n",
        "    os.remove(new_im_path)\n",
        "    \n",
        "    return user_info"
      ]
    },
    {
      "cell_type": "markdown",
      "metadata": {
        "id": "mwi23G2GAKR8"
      },
      "source": [
        "<h3 style='font-weight: bold'>Examples</h3>"
      ]
    },
    {
      "cell_type": "code",
      "execution_count": null,
      "metadata": {
        "colab": {
          "base_uri": "https://localhost:8080/"
        },
        "id": "I0hVvBj0AKR9",
        "outputId": "6a128aa3-d44d-4e2c-9ab1-848fa6af5dd9"
      },
      "outputs": [
        {
          "output_type": "stream",
          "name": "stdout",
          "text": [
            "Name\t:\tGILBERT\n",
            "Surname\t:\tTEMGOUA DONKOO\n",
            "Sex\t:\tM\n",
            "Date of birth\t:\t09/04/1994\n",
            "Nationality\t:\tCAMEROON\n",
            "Passport type\t:\tPO\n",
            "Passport number\t:\t1225801\n",
            "Issuing country\t:\tCAR\n",
            "Expiration date\t:\t06/05/2025\n",
            "Personal number\t:\tM0966473\n"
          ]
        }
      ],
      "source": [
        "img_name = 'passport_temgoua.png'\n",
        "data = get_data(img_name)\n",
        "print_data(data)"
      ]
    },
    {
      "cell_type": "code",
      "execution_count": null,
      "metadata": {
        "id": "AtqgJBadAKR9",
        "outputId": "ad855010-227a-44fd-92f5-d605a2423853",
        "colab": {
          "base_uri": "https://localhost:8080/"
        }
      },
      "outputs": [
        {
          "output_type": "stream",
          "name": "stdout",
          "text": [
            "Name\t:\tMOHAMMED MUDASEER\n",
            "Surname\t:\t\n",
            "Sex\t:\tM\n",
            "Date of birth\t:\t04/04/1982\n",
            "Nationality\t:\tINDIA\n",
            "Passport type\t:\tP\n",
            "Passport number\t:\tH2908283\n",
            "Issuing country\t:\tINDIA\n",
            "Expiration date\t:\t09/02/2019\n",
            "Personal number\t:\t\n"
          ]
        }
      ],
      "source": [
        "img_name = '/content/passport_1.png'\n",
        "data1 = get_data(img_name)\n",
        "print_data(data1)"
      ]
    },
    {
      "cell_type": "code",
      "source": [
        "def passport_info():\n",
        "  image_name = match_images()\n",
        "  data = get_data(image_name)\n",
        "  print_data(data)"
      ],
      "metadata": {
        "id": "WElF5r8FYvGC"
      },
      "execution_count": 47,
      "outputs": []
    },
    {
      "cell_type": "code",
      "source": [
        "passport_info()"
      ],
      "metadata": {
        "colab": {
          "base_uri": "https://localhost:8080/"
        },
        "id": "PSM5JYeQZPEx",
        "outputId": "350f733e-5cd1-4077-d76f-c8faa6a811a9"
      },
      "execution_count": 48,
      "outputs": [
        {
          "output_type": "stream",
          "name": "stdout",
          "text": [
            "Please Enter your image: /content/obama.jpg\n",
            "Please Enter your passport: /content/pass-project/passport_temgoua.png\n",
            "Face and passport belong to different persons\n",
            "Name\t:\tGILBERT\n",
            "Surname\t:\tTEMGOUA DONKOO\n",
            "Sex\t:\tM\n",
            "Date of birth\t:\t09/04/1994\n",
            "Nationality\t:\tCAMEROON\n",
            "Passport type\t:\tPO\n",
            "Passport number\t:\t1225801\n",
            "Issuing country\t:\tCAR\n",
            "Expiration date\t:\t06/05/2025\n",
            "Personal number\t:\tM0966473\n"
          ]
        }
      ]
    }
  ],
  "metadata": {
    "interpreter": {
      "hash": "ad2bdc8ecc057115af97d19610ffacc2b4e99fae6737bb82f5d7fb13d2f2c186"
    },
    "kernelspec": {
      "display_name": "Python 3.9.12 ('base')",
      "language": "python",
      "name": "python3"
    },
    "language_info": {
      "codemirror_mode": {
        "name": "ipython",
        "version": 3
      },
      "file_extension": ".py",
      "mimetype": "text/x-python",
      "name": "python",
      "nbconvert_exporter": "python",
      "pygments_lexer": "ipython3",
      "version": "3.9.16"
    },
    "orig_nbformat": 4,
    "colab": {
      "provenance": [],
      "gpuType": "T4"
    },
    "accelerator": "GPU",
    "gpuClass": "standard"
  },
  "nbformat": 4,
  "nbformat_minor": 0
}